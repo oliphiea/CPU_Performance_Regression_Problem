{
 "cells": [
  {
   "cell_type": "markdown",
   "metadata": {},
   "source": [
    "## Import Libraries"
   ]
  },
  {
   "cell_type": "code",
   "execution_count": 1,
   "metadata": {},
   "outputs": [],
   "source": [
    "import numpy as np\n",
    "import pandas as pd\n",
    "import seaborn as sns\n",
    "import matplotlib.pyplot as plt"
   ]
  },
  {
   "cell_type": "code",
   "execution_count": 2,
   "metadata": {},
   "outputs": [
    {
     "data": {
      "text/html": [
       "<div>\n",
       "<style scoped>\n",
       "    .dataframe tbody tr th:only-of-type {\n",
       "        vertical-align: middle;\n",
       "    }\n",
       "\n",
       "    .dataframe tbody tr th {\n",
       "        vertical-align: top;\n",
       "    }\n",
       "\n",
       "    .dataframe thead th {\n",
       "        text-align: right;\n",
       "    }\n",
       "</style>\n",
       "<table border=\"1\" class=\"dataframe\">\n",
       "  <thead>\n",
       "    <tr style=\"text-align: right;\">\n",
       "      <th></th>\n",
       "      <th>0</th>\n",
       "      <th>1</th>\n",
       "      <th>2</th>\n",
       "      <th>3</th>\n",
       "      <th>4</th>\n",
       "      <th>5</th>\n",
       "      <th>6</th>\n",
       "      <th>7</th>\n",
       "      <th>8</th>\n",
       "      <th>9</th>\n",
       "    </tr>\n",
       "  </thead>\n",
       "  <tbody>\n",
       "    <tr>\n",
       "      <th>0</th>\n",
       "      <td>adviser</td>\n",
       "      <td>32/60</td>\n",
       "      <td>125</td>\n",
       "      <td>256</td>\n",
       "      <td>6000</td>\n",
       "      <td>256</td>\n",
       "      <td>16</td>\n",
       "      <td>128</td>\n",
       "      <td>198</td>\n",
       "      <td>199</td>\n",
       "    </tr>\n",
       "    <tr>\n",
       "      <th>1</th>\n",
       "      <td>amdahl</td>\n",
       "      <td>470v/7</td>\n",
       "      <td>29</td>\n",
       "      <td>8000</td>\n",
       "      <td>32000</td>\n",
       "      <td>32</td>\n",
       "      <td>8</td>\n",
       "      <td>32</td>\n",
       "      <td>269</td>\n",
       "      <td>253</td>\n",
       "    </tr>\n",
       "    <tr>\n",
       "      <th>2</th>\n",
       "      <td>amdahl</td>\n",
       "      <td>470v/7a</td>\n",
       "      <td>29</td>\n",
       "      <td>8000</td>\n",
       "      <td>32000</td>\n",
       "      <td>32</td>\n",
       "      <td>8</td>\n",
       "      <td>32</td>\n",
       "      <td>220</td>\n",
       "      <td>253</td>\n",
       "    </tr>\n",
       "    <tr>\n",
       "      <th>3</th>\n",
       "      <td>amdahl</td>\n",
       "      <td>470v/7b</td>\n",
       "      <td>29</td>\n",
       "      <td>8000</td>\n",
       "      <td>32000</td>\n",
       "      <td>32</td>\n",
       "      <td>8</td>\n",
       "      <td>32</td>\n",
       "      <td>172</td>\n",
       "      <td>253</td>\n",
       "    </tr>\n",
       "    <tr>\n",
       "      <th>4</th>\n",
       "      <td>amdahl</td>\n",
       "      <td>470v/7c</td>\n",
       "      <td>29</td>\n",
       "      <td>8000</td>\n",
       "      <td>16000</td>\n",
       "      <td>32</td>\n",
       "      <td>8</td>\n",
       "      <td>16</td>\n",
       "      <td>132</td>\n",
       "      <td>132</td>\n",
       "    </tr>\n",
       "  </tbody>\n",
       "</table>\n",
       "</div>"
      ],
      "text/plain": [
       "         0        1    2     3      4    5   6    7    8    9\n",
       "0  adviser    32/60  125   256   6000  256  16  128  198  199\n",
       "1   amdahl   470v/7   29  8000  32000   32   8   32  269  253\n",
       "2   amdahl  470v/7a   29  8000  32000   32   8   32  220  253\n",
       "3   amdahl  470v/7b   29  8000  32000   32   8   32  172  253\n",
       "4   amdahl  470v/7c   29  8000  16000   32   8   16  132  132"
      ]
     },
     "execution_count": 2,
     "metadata": {},
     "output_type": "execute_result"
    }
   ],
   "source": [
    "data=pd.read_csv(r\"C:\\Users\\DELL\\Downloads\\computer+hardware\\machine_data.txt\", header=None)\n",
    "data.head()"
   ]
  },
  {
   "cell_type": "code",
   "execution_count": 3,
   "metadata": {},
   "outputs": [
    {
     "data": {
      "text/html": [
       "<div>\n",
       "<style scoped>\n",
       "    .dataframe tbody tr th:only-of-type {\n",
       "        vertical-align: middle;\n",
       "    }\n",
       "\n",
       "    .dataframe tbody tr th {\n",
       "        vertical-align: top;\n",
       "    }\n",
       "\n",
       "    .dataframe thead th {\n",
       "        text-align: right;\n",
       "    }\n",
       "</style>\n",
       "<table border=\"1\" class=\"dataframe\">\n",
       "  <thead>\n",
       "    <tr style=\"text-align: right;\">\n",
       "      <th></th>\n",
       "      <th>Vendor_Name</th>\n",
       "      <th>Model_Name</th>\n",
       "      <th>Machine_Cycle_Time</th>\n",
       "      <th>Memory_Min</th>\n",
       "      <th>Memory_Max</th>\n",
       "      <th>Cache</th>\n",
       "      <th>Channel_Min</th>\n",
       "      <th>Channel_Max</th>\n",
       "      <th>PRP</th>\n",
       "      <th>ERP</th>\n",
       "    </tr>\n",
       "  </thead>\n",
       "  <tbody>\n",
       "    <tr>\n",
       "      <th>0</th>\n",
       "      <td>adviser</td>\n",
       "      <td>32/60</td>\n",
       "      <td>125</td>\n",
       "      <td>256</td>\n",
       "      <td>6000</td>\n",
       "      <td>256</td>\n",
       "      <td>16</td>\n",
       "      <td>128</td>\n",
       "      <td>198</td>\n",
       "      <td>199</td>\n",
       "    </tr>\n",
       "    <tr>\n",
       "      <th>1</th>\n",
       "      <td>amdahl</td>\n",
       "      <td>470v/7</td>\n",
       "      <td>29</td>\n",
       "      <td>8000</td>\n",
       "      <td>32000</td>\n",
       "      <td>32</td>\n",
       "      <td>8</td>\n",
       "      <td>32</td>\n",
       "      <td>269</td>\n",
       "      <td>253</td>\n",
       "    </tr>\n",
       "    <tr>\n",
       "      <th>2</th>\n",
       "      <td>amdahl</td>\n",
       "      <td>470v/7a</td>\n",
       "      <td>29</td>\n",
       "      <td>8000</td>\n",
       "      <td>32000</td>\n",
       "      <td>32</td>\n",
       "      <td>8</td>\n",
       "      <td>32</td>\n",
       "      <td>220</td>\n",
       "      <td>253</td>\n",
       "    </tr>\n",
       "    <tr>\n",
       "      <th>3</th>\n",
       "      <td>amdahl</td>\n",
       "      <td>470v/7b</td>\n",
       "      <td>29</td>\n",
       "      <td>8000</td>\n",
       "      <td>32000</td>\n",
       "      <td>32</td>\n",
       "      <td>8</td>\n",
       "      <td>32</td>\n",
       "      <td>172</td>\n",
       "      <td>253</td>\n",
       "    </tr>\n",
       "    <tr>\n",
       "      <th>4</th>\n",
       "      <td>amdahl</td>\n",
       "      <td>470v/7c</td>\n",
       "      <td>29</td>\n",
       "      <td>8000</td>\n",
       "      <td>16000</td>\n",
       "      <td>32</td>\n",
       "      <td>8</td>\n",
       "      <td>16</td>\n",
       "      <td>132</td>\n",
       "      <td>132</td>\n",
       "    </tr>\n",
       "  </tbody>\n",
       "</table>\n",
       "</div>"
      ],
      "text/plain": [
       "  Vendor_Name Model_Name  Machine_Cycle_Time  Memory_Min  Memory_Max  Cache  \\\n",
       "0     adviser      32/60                 125         256        6000    256   \n",
       "1      amdahl     470v/7                  29        8000       32000     32   \n",
       "2      amdahl    470v/7a                  29        8000       32000     32   \n",
       "3      amdahl    470v/7b                  29        8000       32000     32   \n",
       "4      amdahl    470v/7c                  29        8000       16000     32   \n",
       "\n",
       "   Channel_Min  Channel_Max  PRP  ERP  \n",
       "0           16          128  198  199  \n",
       "1            8           32  269  253  \n",
       "2            8           32  220  253  \n",
       "3            8           32  172  253  \n",
       "4            8           16  132  132  "
      ]
     },
     "execution_count": 3,
     "metadata": {},
     "output_type": "execute_result"
    }
   ],
   "source": [
    "#adding column names in df\n",
    "data.columns=['Vendor_Name','Model_Name','Machine_Cycle_Time','Memory_Min','Memory_Max',\n",
    "              'Cache','Channel_Min','Channel_Max','PRP','ERP']\n",
    "data.head()\n",
    "\n",
    "# Machine_Cycle_Time: machine cycle time in nanoseconds\n",
    "# Memory_Min: minimum main memory in kilobytes \n",
    "# Memory_Max: maximum main memory in kilobytes \n",
    "# Cache: cache memory in kilobytes \n",
    "# Channel_Min: minimum channels in units \n",
    "# Channel_Max: maximum channels in units \n",
    "# PRP: published relative performance \n",
    "# ERP: estimated relative performance "
   ]
  },
  {
   "cell_type": "code",
   "execution_count": 4,
   "metadata": {},
   "outputs": [
    {
     "data": {
      "text/plain": [
       "(209, 10)"
      ]
     },
     "execution_count": 4,
     "metadata": {},
     "output_type": "execute_result"
    }
   ],
   "source": [
    "data.shape"
   ]
  },
  {
   "cell_type": "code",
   "execution_count": 5,
   "metadata": {},
   "outputs": [
    {
     "name": "stdout",
     "output_type": "stream",
     "text": [
      "<class 'pandas.core.frame.DataFrame'>\n",
      "RangeIndex: 209 entries, 0 to 208\n",
      "Data columns (total 10 columns):\n",
      " #   Column              Non-Null Count  Dtype \n",
      "---  ------              --------------  ----- \n",
      " 0   Vendor_Name         209 non-null    object\n",
      " 1   Model_Name          209 non-null    object\n",
      " 2   Machine_Cycle_Time  209 non-null    int64 \n",
      " 3   Memory_Min          209 non-null    int64 \n",
      " 4   Memory_Max          209 non-null    int64 \n",
      " 5   Cache               209 non-null    int64 \n",
      " 6   Channel_Min         209 non-null    int64 \n",
      " 7   Channel_Max         209 non-null    int64 \n",
      " 8   PRP                 209 non-null    int64 \n",
      " 9   ERP                 209 non-null    int64 \n",
      "dtypes: int64(8), object(2)\n",
      "memory usage: 16.5+ KB\n"
     ]
    }
   ],
   "source": [
    "data.info()"
   ]
  },
  {
   "cell_type": "code",
   "execution_count": 6,
   "metadata": {},
   "outputs": [
    {
     "data": {
      "text/html": [
       "<div>\n",
       "<style scoped>\n",
       "    .dataframe tbody tr th:only-of-type {\n",
       "        vertical-align: middle;\n",
       "    }\n",
       "\n",
       "    .dataframe tbody tr th {\n",
       "        vertical-align: top;\n",
       "    }\n",
       "\n",
       "    .dataframe thead th {\n",
       "        text-align: right;\n",
       "    }\n",
       "</style>\n",
       "<table border=\"1\" class=\"dataframe\">\n",
       "  <thead>\n",
       "    <tr style=\"text-align: right;\">\n",
       "      <th></th>\n",
       "      <th>Machine_Cycle_Time</th>\n",
       "      <th>Memory_Min</th>\n",
       "      <th>Memory_Max</th>\n",
       "      <th>Cache</th>\n",
       "      <th>Channel_Min</th>\n",
       "      <th>Channel_Max</th>\n",
       "      <th>PRP</th>\n",
       "      <th>ERP</th>\n",
       "    </tr>\n",
       "  </thead>\n",
       "  <tbody>\n",
       "    <tr>\n",
       "      <th>count</th>\n",
       "      <td>209.000000</td>\n",
       "      <td>209.000000</td>\n",
       "      <td>209.000000</td>\n",
       "      <td>209.000000</td>\n",
       "      <td>209.000000</td>\n",
       "      <td>209.000000</td>\n",
       "      <td>209.000000</td>\n",
       "      <td>209.000000</td>\n",
       "    </tr>\n",
       "    <tr>\n",
       "      <th>mean</th>\n",
       "      <td>203.822967</td>\n",
       "      <td>2867.980861</td>\n",
       "      <td>11796.153110</td>\n",
       "      <td>25.205742</td>\n",
       "      <td>4.698565</td>\n",
       "      <td>18.267943</td>\n",
       "      <td>105.622010</td>\n",
       "      <td>99.330144</td>\n",
       "    </tr>\n",
       "    <tr>\n",
       "      <th>std</th>\n",
       "      <td>260.262926</td>\n",
       "      <td>3878.742758</td>\n",
       "      <td>11726.564377</td>\n",
       "      <td>40.628722</td>\n",
       "      <td>6.816274</td>\n",
       "      <td>25.997318</td>\n",
       "      <td>160.830733</td>\n",
       "      <td>154.757102</td>\n",
       "    </tr>\n",
       "    <tr>\n",
       "      <th>min</th>\n",
       "      <td>17.000000</td>\n",
       "      <td>64.000000</td>\n",
       "      <td>64.000000</td>\n",
       "      <td>0.000000</td>\n",
       "      <td>0.000000</td>\n",
       "      <td>0.000000</td>\n",
       "      <td>6.000000</td>\n",
       "      <td>15.000000</td>\n",
       "    </tr>\n",
       "    <tr>\n",
       "      <th>25%</th>\n",
       "      <td>50.000000</td>\n",
       "      <td>768.000000</td>\n",
       "      <td>4000.000000</td>\n",
       "      <td>0.000000</td>\n",
       "      <td>1.000000</td>\n",
       "      <td>5.000000</td>\n",
       "      <td>27.000000</td>\n",
       "      <td>28.000000</td>\n",
       "    </tr>\n",
       "    <tr>\n",
       "      <th>50%</th>\n",
       "      <td>110.000000</td>\n",
       "      <td>2000.000000</td>\n",
       "      <td>8000.000000</td>\n",
       "      <td>8.000000</td>\n",
       "      <td>2.000000</td>\n",
       "      <td>8.000000</td>\n",
       "      <td>50.000000</td>\n",
       "      <td>45.000000</td>\n",
       "    </tr>\n",
       "    <tr>\n",
       "      <th>75%</th>\n",
       "      <td>225.000000</td>\n",
       "      <td>4000.000000</td>\n",
       "      <td>16000.000000</td>\n",
       "      <td>32.000000</td>\n",
       "      <td>6.000000</td>\n",
       "      <td>24.000000</td>\n",
       "      <td>113.000000</td>\n",
       "      <td>101.000000</td>\n",
       "    </tr>\n",
       "    <tr>\n",
       "      <th>max</th>\n",
       "      <td>1500.000000</td>\n",
       "      <td>32000.000000</td>\n",
       "      <td>64000.000000</td>\n",
       "      <td>256.000000</td>\n",
       "      <td>52.000000</td>\n",
       "      <td>176.000000</td>\n",
       "      <td>1150.000000</td>\n",
       "      <td>1238.000000</td>\n",
       "    </tr>\n",
       "  </tbody>\n",
       "</table>\n",
       "</div>"
      ],
      "text/plain": [
       "       Machine_Cycle_Time    Memory_Min    Memory_Max       Cache  \\\n",
       "count          209.000000    209.000000    209.000000  209.000000   \n",
       "mean           203.822967   2867.980861  11796.153110   25.205742   \n",
       "std            260.262926   3878.742758  11726.564377   40.628722   \n",
       "min             17.000000     64.000000     64.000000    0.000000   \n",
       "25%             50.000000    768.000000   4000.000000    0.000000   \n",
       "50%            110.000000   2000.000000   8000.000000    8.000000   \n",
       "75%            225.000000   4000.000000  16000.000000   32.000000   \n",
       "max           1500.000000  32000.000000  64000.000000  256.000000   \n",
       "\n",
       "       Channel_Min  Channel_Max          PRP          ERP  \n",
       "count   209.000000   209.000000   209.000000   209.000000  \n",
       "mean      4.698565    18.267943   105.622010    99.330144  \n",
       "std       6.816274    25.997318   160.830733   154.757102  \n",
       "min       0.000000     0.000000     6.000000    15.000000  \n",
       "25%       1.000000     5.000000    27.000000    28.000000  \n",
       "50%       2.000000     8.000000    50.000000    45.000000  \n",
       "75%       6.000000    24.000000   113.000000   101.000000  \n",
       "max      52.000000   176.000000  1150.000000  1238.000000  "
      ]
     },
     "execution_count": 6,
     "metadata": {},
     "output_type": "execute_result"
    }
   ],
   "source": [
    "data.describe()"
   ]
  },
  {
   "cell_type": "markdown",
   "metadata": {},
   "source": [
    "## Missing Values"
   ]
  },
  {
   "cell_type": "code",
   "execution_count": 7,
   "metadata": {},
   "outputs": [
    {
     "data": {
      "text/plain": [
       "Vendor_Name           0\n",
       "Model_Name            0\n",
       "Machine_Cycle_Time    0\n",
       "Memory_Min            0\n",
       "Memory_Max            0\n",
       "Cache                 0\n",
       "Channel_Min           0\n",
       "Channel_Max           0\n",
       "PRP                   0\n",
       "ERP                   0\n",
       "dtype: int64"
      ]
     },
     "execution_count": 7,
     "metadata": {},
     "output_type": "execute_result"
    }
   ],
   "source": [
    "data.isnull().sum()"
   ]
  },
  {
   "cell_type": "code",
   "execution_count": 8,
   "metadata": {},
   "outputs": [
    {
     "data": {
      "text/plain": [
       "0"
      ]
     },
     "execution_count": 8,
     "metadata": {},
     "output_type": "execute_result"
    }
   ],
   "source": [
    "data.duplicated().sum()"
   ]
  },
  {
   "cell_type": "code",
   "execution_count": 9,
   "metadata": {
    "scrolled": true
   },
   "outputs": [
    {
     "name": "stdout",
     "output_type": "stream",
     "text": [
      "{'Vendor_Name': array(['adviser', 'amdahl', 'apollo', 'basf', 'bti', 'burroughs', 'c.r.d',\n",
      "       'cdc', 'cambex', 'dec', 'dg', 'formation', 'four-phase', 'gould',\n",
      "       'hp', 'harris', 'honeywell', 'ibm', 'ipl', 'magnuson', 'microdata',\n",
      "       'nas', 'ncr', 'nixdorf', 'perkin-elmer', 'prime', 'siemens',\n",
      "       'sperry', 'sratus', 'wang'], dtype=object)}\n",
      "{'Model_Name': array(['32/60', '470v/7', '470v/7a', '470v/7b', '470v/7c', '470v/b',\n",
      "       '580-5840', '580-5850', '580-5860', '580-5880', 'dn320', 'dn420',\n",
      "       '7/65', '7/68', '5000', '8000', 'b1955', 'b2900', 'b2925', 'b4955',\n",
      "       'b5900', 'b5920', 'b6900', 'b6925', '68/10-80', 'universe:2203t',\n",
      "       'universe:68', 'universe:68/05', 'universe:68/137',\n",
      "       'universe:68/37', 'cyber:170/750', 'cyber:170/760',\n",
      "       'cyber:170/815', 'cyber:170/825', 'cyber:170/835', 'cyber:170/845',\n",
      "       'omega:480-i', 'omega:480-ii', 'omega:480-iii', '1636-1',\n",
      "       '1636-10', '1641-1', '1641-11', '1651-1', 'decsys:10:1091',\n",
      "       'decsys:20:2060', 'microvax-1', 'vax:11/730', 'vax:11/750',\n",
      "       'vax:11/780', 'eclipse:c/350', 'eclipse:m/600', 'eclipse:mv/10000',\n",
      "       'eclipse:mv/4000', 'eclipse:mv/6000', 'eclipse:mv/8000',\n",
      "       'eclipse:mv/8000-ii', 'f4000/100', 'f4000/200', 'f4000/200ap',\n",
      "       'f4000/300', 'f4000/300ap', '2000/260', 'concept:32/8705',\n",
      "       'concept:32/8750', 'concept:32/8780', '3000/30', '3000/40',\n",
      "       '3000/44', '3000/48', '3000/64', '3000/88', '3000/iii', '100',\n",
      "       '300', '500', '600', '700', '80', '800', 'dps:6/35', 'dps:6/92',\n",
      "       'dps:6/96', 'dps:7/35', 'dps:7/45', 'dps:7/55', 'dps:7/65',\n",
      "       'dps:8/44', 'dps:8/49', 'dps:8/50', 'dps:8/52', 'dps:8/62',\n",
      "       'dps:8/20', '3033:s', '3033:u', '3081', '3081:d', '3083:b',\n",
      "       '3083:e', '370/125-2', '370/148', '370/158-3', '38/3', '38/4',\n",
      "       '38/5', '38/7', '38/8', '4321', '4331-1', '4331-11', '4331-2',\n",
      "       '4341', '4341-1', '4341-10', '4341-11', '4341-12', '4341-2',\n",
      "       '4341-9', '4361-4', '4361-5', '4381-1', '4381-2', '8130-a',\n",
      "       '8130-b', '8140', '4436', '4443', '4445', '4446', '4460', '4480',\n",
      "       'm80/30', 'm80/31', 'm80/32', 'm80/42', 'm80/43', 'm80/44',\n",
      "       'seq.ms/3200', 'as/3000', 'as/3000-n', 'as/5000', 'as/5000-e',\n",
      "       'as/5000-n', 'as/6130', 'as/6150', 'as/6620', 'as/6630', 'as/6650',\n",
      "       'as/7000', 'as/7000-n', 'as/8040', 'as/8050', 'as/8060',\n",
      "       'as/9000-dpc', 'as/9000-n', 'as/9040', 'as/9060', 'v8535:ii',\n",
      "       'v8545:ii', 'v8555:ii', 'v8565:ii', 'v8565:ii-e', 'v8575:ii',\n",
      "       'v8585:ii', 'v8595:ii', 'v8635', 'v8650', 'v8655', 'v8665',\n",
      "       'v8670', '8890/30', '8890/50', '8890/70', '3205', '3210', '3230',\n",
      "       '50-2250', '50-250-ii', '50-550-ii', '50-750-ii', '50-850-ii',\n",
      "       '7.521', '7.531', '7.536', '7.541', '7.551', '7.561', '7.865-2',\n",
      "       '7.870-2', '7.872-2', '7.875-2', '7.880-2', '7.881-2',\n",
      "       '1100/61-h1', '1100/81', '1100/82', '1100/83', '1100/84',\n",
      "       '1100/93', '1100/94', '80/3', '80/4', '80/5', '80/6', '80/8',\n",
      "       '90/80-model-3', '32', 'vs-100', 'vs-90'], dtype=object)}\n",
      "{'Machine_Cycle_Time': array([ 125,   29,   26,   23,  400,   60,   50,  350,  200,  167,  143,\n",
      "        110,  320,   25,   56,   64,  133,  810,  700,  140,  220,  800,\n",
      "         75,   90,  105,  175,  300,  180,  330,   57,  480,  203,  115,\n",
      "       1100,  600,  900,  225,  185,   17, 1500,  100,  150,   92,   72,\n",
      "         40,   35,   38,   48,   30,  112,   84,  250,  160,  240,   52,\n",
      "         70,   59,  116,  124,   98], dtype=int64)}\n",
      "{'Memory_Min': array([  256,  8000, 16000, 32000,  1000,   512,  2000,  4000,    64,\n",
      "         524,  5000,  1500,  3100,  2300,   128,  1310,  2620,  5240,\n",
      "         500,   384,  3000,   768,   192,    96,   262], dtype=int64)}\n",
      "{'Memory_Max': array([ 6000, 32000, 16000, 64000,  3000,  3500,  8000,    64,  2000,\n",
      "        5000,  6300,  6200,  2620, 10480, 20970,  4000, 12000,   512,\n",
      "        1000,  4500,   768, 24000,  1500], dtype=int64)}\n",
      "{'Cache': array([256,  32,  64, 128,   0,   4,  65,   8, 142, 131,  30,   9,  16,\n",
      "         6,   1,   2,  24,  48,  12, 160, 112,  96], dtype=int64)}\n",
      "{'Channel_Min': array([16,  8, 32,  1,  4,  7,  5,  6, 12,  3,  2,  0, 24, 26, 52],\n",
      "      dtype=int64)}\n",
      "{'Channel_Max': array([128,  32,  16,  64,   2,   6,   8,   4,  15,  20,  12,   3,   5,\n",
      "        24,   1,  38,  10,  19,  48,  31, 112,  54,   0,   7,  14,  13,\n",
      "        28,  26,  52, 104, 176], dtype=int64)}\n",
      "{'PRP': array([ 198,  269,  220,  172,  132,  318,  367,  489,  636, 1144,   38,\n",
      "         40,   92,  138,   10,   35,   19,   28,   31,  120,   30,   33,\n",
      "         61,   76,   23,   69,   27,   77,  274,  368,   32,   63,  106,\n",
      "        208,   20,   29,   71,   26,   36,   52,   60,   72,   18,   62,\n",
      "         24,   12,   14,   16,   22,  144,  259,   17,   64,   44,   50,\n",
      "         45,   53,   84,  134,   66,  141,  189,  237,  465,  277,  185,\n",
      "          6,    7,   13,   11,   37,   34,   49,  100,  133,   56,   70,\n",
      "         80,  136,   54,   65,   86,   74,   93,  111,  143,  105,  214,\n",
      "        370,  510,  326,    8,   21,   42,   46,   51,  116,  140,  212,\n",
      "         25,   41,  109,   58,  130,   75,  113,  188,  173,  248,  405,\n",
      "        114,  307,  397,  915, 1150,   67], dtype=int64)}\n",
      "{'ERP': array([ 199,  253,  132,  290,  381,  749, 1238,   23,   24,   70,  117,\n",
      "         15,   64,   29,   22,  124,   35,   39,   40,   45,   28,   21,\n",
      "         27,  102,   74,  138,  136,   44,   30,   41,   54,   18,   36,\n",
      "         38,   34,   19,   72,   56,   42,   75,  113,  157,   20,   33,\n",
      "         47,   25,   52,   50,   53,   73,   32,  175,   57,  181,   82,\n",
      "        171,  361,  350,  220,   17,   26,   31,   76,   59,   65,  101,\n",
      "        116,  128,   37,   46,   80,   88,   86,   95,  107,  119,  120,\n",
      "         48,  126,  266,  270,  426,  151,  267,  603,   62,   78,  142,\n",
      "        281,  190,   67,   43,   99,   81,  149,  183,  275,  382,  182,\n",
      "        227,  341,  360,  919,  978], dtype=int64)}\n"
     ]
    }
   ],
   "source": [
    "for i in data.columns:\n",
    "    print({i:data[i].unique()})"
   ]
  },
  {
   "cell_type": "markdown",
   "metadata": {},
   "source": [
    "## Feature Selection"
   ]
  },
  {
   "cell_type": "code",
   "execution_count": 10,
   "metadata": {},
   "outputs": [],
   "source": [
    "data.drop('Vendor_Name',axis=1, inplace=True)"
   ]
  },
  {
   "cell_type": "code",
   "execution_count": 11,
   "metadata": {},
   "outputs": [
    {
     "data": {
      "text/html": [
       "<div>\n",
       "<style scoped>\n",
       "    .dataframe tbody tr th:only-of-type {\n",
       "        vertical-align: middle;\n",
       "    }\n",
       "\n",
       "    .dataframe tbody tr th {\n",
       "        vertical-align: top;\n",
       "    }\n",
       "\n",
       "    .dataframe thead th {\n",
       "        text-align: right;\n",
       "    }\n",
       "</style>\n",
       "<table border=\"1\" class=\"dataframe\">\n",
       "  <thead>\n",
       "    <tr style=\"text-align: right;\">\n",
       "      <th></th>\n",
       "      <th>Model_Name</th>\n",
       "      <th>Machine_Cycle_Time</th>\n",
       "      <th>Memory_Min</th>\n",
       "      <th>Memory_Max</th>\n",
       "      <th>Cache</th>\n",
       "      <th>Channel_Min</th>\n",
       "      <th>Channel_Max</th>\n",
       "      <th>PRP</th>\n",
       "      <th>ERP</th>\n",
       "    </tr>\n",
       "  </thead>\n",
       "  <tbody>\n",
       "    <tr>\n",
       "      <th>0</th>\n",
       "      <td>29</td>\n",
       "      <td>31</td>\n",
       "      <td>4</td>\n",
       "      <td>12</td>\n",
       "      <td>21</td>\n",
       "      <td>10</td>\n",
       "      <td>29</td>\n",
       "      <td>90</td>\n",
       "      <td>82</td>\n",
       "    </tr>\n",
       "    <tr>\n",
       "      <th>1</th>\n",
       "      <td>62</td>\n",
       "      <td>4</td>\n",
       "      <td>22</td>\n",
       "      <td>21</td>\n",
       "      <td>11</td>\n",
       "      <td>8</td>\n",
       "      <td>21</td>\n",
       "      <td>98</td>\n",
       "      <td>85</td>\n",
       "    </tr>\n",
       "    <tr>\n",
       "      <th>2</th>\n",
       "      <td>63</td>\n",
       "      <td>4</td>\n",
       "      <td>22</td>\n",
       "      <td>21</td>\n",
       "      <td>11</td>\n",
       "      <td>8</td>\n",
       "      <td>21</td>\n",
       "      <td>94</td>\n",
       "      <td>85</td>\n",
       "    </tr>\n",
       "    <tr>\n",
       "      <th>3</th>\n",
       "      <td>64</td>\n",
       "      <td>4</td>\n",
       "      <td>22</td>\n",
       "      <td>21</td>\n",
       "      <td>11</td>\n",
       "      <td>8</td>\n",
       "      <td>21</td>\n",
       "      <td>85</td>\n",
       "      <td>85</td>\n",
       "    </tr>\n",
       "    <tr>\n",
       "      <th>4</th>\n",
       "      <td>65</td>\n",
       "      <td>4</td>\n",
       "      <td>22</td>\n",
       "      <td>18</td>\n",
       "      <td>11</td>\n",
       "      <td>8</td>\n",
       "      <td>14</td>\n",
       "      <td>76</td>\n",
       "      <td>69</td>\n",
       "    </tr>\n",
       "  </tbody>\n",
       "</table>\n",
       "</div>"
      ],
      "text/plain": [
       "   Model_Name  Machine_Cycle_Time  Memory_Min  Memory_Max  Cache  Channel_Min  \\\n",
       "0          29                  31           4          12     21           10   \n",
       "1          62                   4          22          21     11            8   \n",
       "2          63                   4          22          21     11            8   \n",
       "3          64                   4          22          21     11            8   \n",
       "4          65                   4          22          18     11            8   \n",
       "\n",
       "   Channel_Max  PRP  ERP  \n",
       "0           29   90   82  \n",
       "1           21   98   85  \n",
       "2           21   94   85  \n",
       "3           21   85   85  \n",
       "4           14   76   69  "
      ]
     },
     "execution_count": 11,
     "metadata": {},
     "output_type": "execute_result"
    }
   ],
   "source": [
    "#converting from categorical to numerical\n",
    "from sklearn.preprocessing import LabelEncoder\n",
    "\n",
    "le=LabelEncoder()\n",
    "\n",
    "for i in data.columns:\n",
    "    data[i]=le.fit_transform(data[i])\n",
    "\n",
    "data.head()"
   ]
  },
  {
   "cell_type": "code",
   "execution_count": 12,
   "metadata": {},
   "outputs": [
    {
     "data": {
      "text/plain": [
       "(209, 9)"
      ]
     },
     "execution_count": 12,
     "metadata": {},
     "output_type": "execute_result"
    }
   ],
   "source": [
    "data.shape"
   ]
  },
  {
   "cell_type": "markdown",
   "metadata": {},
   "source": [
    "## Check Assumption\n",
    "Linear Regression is a Parametric algorithm which means before using Linear Regression we have to check few assumpttions if those assumtions are true then only we can use Linear Regression, other wise use other algorithms."
   ]
  },
  {
   "cell_type": "code",
   "execution_count": 13,
   "metadata": {
    "scrolled": false
   },
   "outputs": [
    {
     "data": {
      "text/plain": [
       "<AxesSubplot:>"
      ]
     },
     "execution_count": 13,
     "metadata": {},
     "output_type": "execute_result"
    },
    {
     "data": {
      "image/png": "[encoded data removed]",
      "text/plain": [
       "<Figure size 1080x360 with 1 Axes>"
      ]
     },
     "metadata": {
      "needs_background": "light"
     },
     "output_type": "display_data"
    }
   ],
   "source": [
    "# Assumption 1 -> Their should be no outliers in the data\n",
    "plt.figure (figsize= (15,5)) \n",
    "data.boxplot()"
   ]
  },
  {
   "cell_type": "markdown",
   "metadata": {},
   "source": [
    "**Observation:** In data frame we have all the varaibles in continous numeric values so we create box plot on all columns by this plot we can se there is no outlier but channel_min has outliers.\n",
    "\n",
    "**Note: If their are outlier present then we can treat using below approch**\n",
    "\n",
    "1. Elimination: Directly droping the variable\n",
    "2. Treat the outlier:\n",
    "    a. Using Caping and Floaring Approch\n",
    "    b. Replace Using Measure of Central Tendencies \n",
    "    c. Replace Custom values\n",
    "3. If cluster is present then leave them as it is\n",
    "4. Check with Client if this is acceptable range or not"
   ]
  },
  {
   "cell_type": "code",
   "execution_count": 14,
   "metadata": {},
   "outputs": [
    {
     "data": {
      "image/png": "[encoded data removed]",
      "text/plain": [
       "<Figure size 432x288 with 1 Axes>"
      ]
     },
     "metadata": {
      "needs_background": "light"
     },
     "output_type": "display_data"
    }
   ],
   "source": [
    "data.boxplot(column='Channel_Min');"
   ]
  },
  {
   "cell_type": "code",
   "execution_count": 15,
   "metadata": {},
   "outputs": [
    {
     "data": {
      "image/png": "[encoded data removed]",
      "text/plain": [
       "<Figure size 1440x180 with 8 Axes>"
      ]
     },
     "metadata": {
      "needs_background": "light"
     },
     "output_type": "display_data"
    }
   ],
   "source": [
    "# Assumption 2 -> Assumption of linearity: Every independet variable should have a linear relationship with the dependent variable.\n",
    "sns.pairplot(data,x_vars=['Model_Name','Machine_Cycle_Time','Memory_Min','Memory_Max',\n",
    "              'Cache','Channel_Min','Channel_Max','PRP'], y_vars=['ERP'], kind='scatter');     \n",
    "plt.show();"
   ]
  },
  {
   "cell_type": "markdown",
   "metadata": {},
   "source": [
    "**Observation:** If the assumption of Linearity is not met then we can drop that variable.\n",
    "\n",
    "1. No Relation in Model_Name, Channel_Min, Channel_Max and ERP \n",
    "2. Moderately Negative Linear Relationship in Machine_Cycle_Time and ERP\n",
    "3. Moderately Positive Linear Relationship in Memory_Min, Cache and ERP\n",
    "4. Strong Positive Linear Relationship in Memory_Max, PRP and ERP"
   ]
  },
  {
   "cell_type": "code",
   "execution_count": 16,
   "metadata": {},
   "outputs": [],
   "source": [
    "x=data.iloc[:,0:-1]\n",
    "y=data.iloc[:,-1]\n",
    "y=y.astype(int)"
   ]
  },
  {
   "cell_type": "code",
   "execution_count": 17,
   "metadata": {},
   "outputs": [
    {
     "data": {
      "image/png": "[encoded data removed]",
      "text/plain": [
       "<Figure size 432x288 with 1 Axes>"
      ]
     },
     "metadata": {
      "needs_background": "light"
     },
     "output_type": "display_data"
    }
   ],
   "source": [
    "# Assumption 3 -> Asumption of Normality: The dependet variable should follow an approximate normal Distribution\n",
    "sns.distplot(y);"
   ]
  },
  {
   "cell_type": "markdown",
   "metadata": {},
   "source": [
    "**Observation:**\n",
    "ERP variable is not meeting the assumption and we can see that y variable is right skewed and not following proper normal Distribution\n",
    "\n",
    "**Note: If its not normal or if its skewed plot then we can transform the column in different transformation**\n",
    "1. Log Transform : Most of the time we prefer log transform, because it will help you to smoothing of curve\n",
    "2. SQRT Transform: In sqrt transform we can see the peeks and sometime it will not help you to smoothing of curve"
   ]
  },
  {
   "cell_type": "code",
   "execution_count": 18,
   "metadata": {},
   "outputs": [
    {
     "data": {
      "text/plain": [
       "<AxesSubplot:xlabel='ERP'>"
      ]
     },
     "execution_count": 18,
     "metadata": {},
     "output_type": "execute_result"
    },
    {
     "data": {
      "image/png": "[encoded data removed]",
      "text/plain": [
       "<Figure size 432x288 with 1 Axes>"
      ]
     },
     "metadata": {
      "needs_background": "light"
     },
     "output_type": "display_data"
    }
   ],
   "source": [
    "y_log = np.log1p(y)\n",
    "sns.distplot(y_log)"
   ]
  },
  {
   "cell_type": "markdown",
   "metadata": {},
   "source": [
    "**Observation:** If your data is approximate normal then dont do transform because you will get skewed data. In our case we will go ahead with y values intead of taking y_log values.\n",
    "\n",
    "**Note: For good practive make sure that your X variables does not contain high skewness and if its approximately normal then its good.**"
   ]
  },
  {
   "cell_type": "code",
   "execution_count": 19,
   "metadata": {},
   "outputs": [
    {
     "data": {
      "image/png": "[encoded data removed]",
      "text/plain": [
       "<Figure size 432x288 with 9 Axes>"
      ]
     },
     "metadata": {
      "needs_background": "light"
     },
     "output_type": "display_data"
    }
   ],
   "source": [
    "# check hist for all variables\n",
    "x.hist(bins=20);"
   ]
  },
  {
   "cell_type": "markdown",
   "metadata": {},
   "source": [
    "**Observation:** From above histograms we can clearly see PRP and Channel_Min is slightly right skewed."
   ]
  },
  {
   "cell_type": "code",
   "execution_count": 20,
   "metadata": {},
   "outputs": [
    {
     "name": "stdout",
     "output_type": "stream",
     "text": [
      "Model_Name            0.000000\n",
      "Machine_Cycle_Time    0.140518\n",
      "Memory_Min            0.062312\n",
      "Memory_Max           -0.422192\n",
      "Cache                 0.518526\n",
      "Channel_Min           0.993033\n",
      "Channel_Max           0.614843\n",
      "PRP                   0.569363\n",
      "dtype: float64\n",
      "Channel_Min    0.993033\n",
      "dtype: float64\n"
     ]
    }
   ],
   "source": [
    "#checking for skewness of all x variables \n",
    "from scipy.stats import skew\n",
    "\n",
    "data_num_skew = x.apply(lambda i: skew(i.dropna()))\n",
    "\n",
    "data_num_skewed = data_num_skew[(data_num_skew > .75) | (data_num_skew < -.75)]\n",
    " \n",
    "print(data_num_skew)\n",
    "print(data_num_skewed)\n",
    "\n",
    "import numpy as np\n",
    "# apply log + 1 transformation for all numeric features with skewness over .75\n",
    "x[data_num_skewed.index] = np.log1p(x[data_num_skewed.index])"
   ]
  },
  {
   "cell_type": "code",
   "execution_count": 21,
   "metadata": {},
   "outputs": [
    {
     "data": {
      "image/png": "[encoded data removed]",
      "text/plain": [
       "<Figure size 432x288 with 2 Axes>"
      ]
     },
     "metadata": {
      "needs_background": "light"
     },
     "output_type": "display_data"
    }
   ],
   "source": [
    "# Assumption 4 -> Assumption of no multicollinearity: There should be No multicolinearity in the Data. \n",
    "#Multicolinearity is problem where one variable is dependent on other, \n",
    "#we want dependecy between x and y variable but not in the x variables, \n",
    "#so if x variables are depend on each other then the model will not be good.\n",
    "#To check the multicolinearity we can use the pearson correlation or VIF value\n",
    "\n",
    "corr_df=x.corr(method=\"pearson\")\n",
    "#print(corr_df)\n",
    "sns.heatmap(corr_df,vmax=1.0,vmin=-1.0,annot=True)\n",
    "plt.show()"
   ]
  },
  {
   "cell_type": "markdown",
   "metadata": {},
   "source": [
    "**Observation:** We want value close to 0 which means their is no correlated with each other.\n",
    "\n",
    "**Note: If the correlation is high between two variables then drop one beacuse bothe varible carrying the similar information so eliminate the varible but think logically.**\n",
    "\n",
    "**Check for VIF value:** Sometimes the correlation matrix alone will not help you to check the multicolinearity so you can use VIF"
   ]
  },
  {
   "cell_type": "code",
   "execution_count": 22,
   "metadata": {},
   "outputs": [
    {
     "data": {
      "text/html": [
       "<div>\n",
       "<style scoped>\n",
       "    .dataframe tbody tr th:only-of-type {\n",
       "        vertical-align: middle;\n",
       "    }\n",
       "\n",
       "    .dataframe tbody tr th {\n",
       "        vertical-align: top;\n",
       "    }\n",
       "\n",
       "    .dataframe thead th {\n",
       "        text-align: right;\n",
       "    }\n",
       "</style>\n",
       "<table border=\"1\" class=\"dataframe\">\n",
       "  <thead>\n",
       "    <tr style=\"text-align: right;\">\n",
       "      <th></th>\n",
       "      <th>features</th>\n",
       "      <th>VIF Factor</th>\n",
       "    </tr>\n",
       "  </thead>\n",
       "  <tbody>\n",
       "    <tr>\n",
       "      <th>0</th>\n",
       "      <td>Model_Name</td>\n",
       "      <td>4.01</td>\n",
       "    </tr>\n",
       "    <tr>\n",
       "      <th>1</th>\n",
       "      <td>Machine_Cycle_Time</td>\n",
       "      <td>2.84</td>\n",
       "    </tr>\n",
       "    <tr>\n",
       "      <th>2</th>\n",
       "      <td>Memory_Min</td>\n",
       "      <td>17.30</td>\n",
       "    </tr>\n",
       "    <tr>\n",
       "      <th>3</th>\n",
       "      <td>Memory_Max</td>\n",
       "      <td>16.47</td>\n",
       "    </tr>\n",
       "    <tr>\n",
       "      <th>4</th>\n",
       "      <td>Cache</td>\n",
       "      <td>6.66</td>\n",
       "    </tr>\n",
       "    <tr>\n",
       "      <th>5</th>\n",
       "      <td>Channel_Min</td>\n",
       "      <td>10.62</td>\n",
       "    </tr>\n",
       "    <tr>\n",
       "      <th>6</th>\n",
       "      <td>Channel_Max</td>\n",
       "      <td>6.82</td>\n",
       "    </tr>\n",
       "    <tr>\n",
       "      <th>7</th>\n",
       "      <td>PRP</td>\n",
       "      <td>17.92</td>\n",
       "    </tr>\n",
       "  </tbody>\n",
       "</table>\n",
       "</div>"
      ],
      "text/plain": [
       "             features  VIF Factor\n",
       "0          Model_Name        4.01\n",
       "1  Machine_Cycle_Time        2.84\n",
       "2          Memory_Min       17.30\n",
       "3          Memory_Max       16.47\n",
       "4               Cache        6.66\n",
       "5         Channel_Min       10.62\n",
       "6         Channel_Max        6.82\n",
       "7                 PRP       17.92"
      ]
     },
     "execution_count": 22,
     "metadata": {},
     "output_type": "execute_result"
    }
   ],
   "source": [
    "from statsmodels.stats.outliers_influence import variance_inflation_factor as vif\n",
    " \n",
    "vif_df = pd.DataFrame()\n",
    "vif_df[\"features\"] = x.columns\n",
    "vif_df[\"VIF Factor\"] = [vif(x.values, i) for i in range(x.shape[1])]  \n",
    "vif_df.round(2)"
   ]
  },
  {
   "cell_type": "markdown",
   "metadata": {},
   "source": [
    "**Observation:** VIF value Less than 5 is good Which represent no multicolinearity\n",
    "\n",
    "**Note:** Once you eliminate one variable based on VIF score then other variable's VIF also change and it will decrease so never eliminate all variables at once, so remove variables with highest value and then run the function again. Also use domain knowledge don’t just depend on VIF values."
   ]
  },
  {
   "cell_type": "code",
   "execution_count": 23,
   "metadata": {},
   "outputs": [],
   "source": [
    "#categorical to numerical \n",
    "colname=data.columns\n",
    "from sklearn.preprocessing import LabelEncoder\n",
    "\n",
    "le=LabelEncoder()\n",
    "for x in colname:\n",
    "    data[x]=le.fit_transform(data[x])"
   ]
  },
  {
   "cell_type": "code",
   "execution_count": 24,
   "metadata": {},
   "outputs": [],
   "source": [
    "x=data.iloc[:,0:-1]\n",
    "y=data.iloc[:,-1]\n",
    "y=y.astype(int)"
   ]
  },
  {
   "cell_type": "code",
   "execution_count": 25,
   "metadata": {},
   "outputs": [],
   "source": [
    "#scalling\n",
    "from sklearn.preprocessing import StandardScaler\n",
    "\n",
    "scaler=StandardScaler()\n",
    "scaler.fit(x)\n",
    "x=scaler.transform(x)"
   ]
  },
  {
   "cell_type": "code",
   "execution_count": 26,
   "metadata": {},
   "outputs": [],
   "source": [
    "#spliting the data\n",
    "from sklearn.model_selection import train_test_split\n",
    "x_train,x_test,y_train,y_test=train_test_split(x, y, test_size=0.2, random_state=10)\n",
    "\n",
    "# > 1000 --> TEST SIZE = 0.3\n",
    "# < 1000 --> TEST SIZE = 0.2"
   ]
  },
  {
   "cell_type": "code",
   "execution_count": 27,
   "metadata": {},
   "outputs": [
    {
     "name": "stdout",
     "output_type": "stream",
     "text": [
      "(167, 8)\n",
      "(167,)\n",
      "(42, 8)\n",
      "(42,)\n"
     ]
    }
   ],
   "source": [
    "print(x_train.shape)\n",
    "print(y_train.shape)\n",
    "print(x_test.shape)\n",
    "print(y_test.shape)"
   ]
  },
  {
   "cell_type": "code",
   "execution_count": 28,
   "metadata": {},
   "outputs": [
    {
     "name": "stdout",
     "output_type": "stream",
     "text": [
      "R-squared: 0.9483373050424612\n",
      "RMSE: 6.526045745762888\n",
      "Adj R-square: 0.9462707972441596\n"
     ]
    }
   ],
   "source": [
    "#model building\n",
    "from sklearn.linear_model import LinearRegression\n",
    "\n",
    "lm = LinearRegression()\n",
    "lm.fit(x_train, y_train)  \n",
    "\n",
    "#predicting model\n",
    "y_pred = lm.predict(x_test)\n",
    "\n",
    "from sklearn.metrics import r2_score,mean_squared_error\n",
    "\n",
    "print(\"R-squared:\", r2_score(y_test,y_pred))\n",
    "print(\"RMSE:\", np.sqrt(mean_squared_error(y_test,y_pred)))\n",
    "print(\"Adj R-square:\", 1 - (1-r2_score(y_test,y_pred))*(len(y)-1)/(len(y)-x.shape[1]-1))"
   ]
  },
  {
   "cell_type": "code",
   "execution_count": 32,
   "metadata": {},
   "outputs": [
    {
     "name": "stdout",
     "output_type": "stream",
     "text": [
      "0\n",
      "103\n"
     ]
    }
   ],
   "source": [
    "print(data.ERP.min())\n",
    "print(data.ERP.max())"
   ]
  },
  {
   "cell_type": "markdown",
   "metadata": {},
   "source": [
    "**Observation:** R-square value tells you how much variablity you can explaoin in the data with the help of regression equation. You will get value in the range of 0 to 1 so close to 1 means good model and close to 0 means worst model (sometimes you will get value less than 0 also)"
   ]
  },
  {
   "cell_type": "markdown",
   "metadata": {},
   "source": [
    "## Ridge Regression"
   ]
  },
  {
   "cell_type": "code",
   "execution_count": 33,
   "metadata": {},
   "outputs": [
    {
     "name": "stdout",
     "output_type": "stream",
     "text": [
      "36.9553143729822\n",
      "[-0.53400938 -1.56338395  1.98006993 10.63520039  6.2212767   3.65087212\n",
      "  0.57366801  8.54493491]\n"
     ]
    }
   ],
   "source": [
    "from sklearn.linear_model import Ridge\n",
    "\n",
    "rid = Ridge()\n",
    "rid.fit(x_train, y_train)  \n",
    "\n",
    "# print intercept and coefficients for Ridge regression \n",
    "print(rid.intercept_)\n",
    "print(rid.coef_)"
   ]
  },
  {
   "cell_type": "code",
   "execution_count": 35,
   "metadata": {},
   "outputs": [
    {
     "name": "stdout",
     "output_type": "stream",
     "text": [
      "R-squared: 0.9483231680045958\n",
      "RMSE: 6.526938581931201\n",
      "Adj R-square: 0.9462560947247797\n"
     ]
    }
   ],
   "source": [
    "y_pred = rid.predict(x_test)\n",
    "\n",
    "print(\"R-squared:\", r2_score(y_test,y_pred))\n",
    "print(\"RMSE:\", np.sqrt(mean_squared_error(y_test,y_pred)))\n",
    "print(\"Adj R-square:\", 1 - (1-r2_score(y_test,y_pred))*(len(y)-1)/(len(y)-x.shape[1]-1))"
   ]
  },
  {
   "cell_type": "markdown",
   "metadata": {},
   "source": [
    "## Lasso Regression"
   ]
  },
  {
   "cell_type": "code",
   "execution_count": 36,
   "metadata": {},
   "outputs": [
    {
     "name": "stdout",
     "output_type": "stream",
     "text": [
      "37.003482000722045\n",
      "[-0.         -1.15505507  1.52551421 10.31833861  5.63238582  3.58511012\n",
      "  0.          9.39356966]\n"
     ]
    }
   ],
   "source": [
    "from sklearn.linear_model import Lasso\n",
    "\n",
    "las = Lasso()\n",
    "las.fit(x_train, y_train)  \n",
    "\n",
    "print(las.intercept_)\n",
    "print(las.coef_)"
   ]
  },
  {
   "cell_type": "code",
   "execution_count": 37,
   "metadata": {},
   "outputs": [
    {
     "name": "stdout",
     "output_type": "stream",
     "text": [
      "R-squared: 0.9483231680045958\n",
      "RMSE: 6.526938581931201\n",
      "Adj R-square: 0.9462560947247797\n"
     ]
    }
   ],
   "source": [
    "y_pred = rid.predict(x_test)\n",
    "\n",
    "print(\"R-squared:\", r2_score(y_test,y_pred))\n",
    "print(\"RMSE:\", np.sqrt(mean_squared_error(y_test,y_pred)))\n",
    "print(\"Adj R-square:\", 1 - (1-r2_score(y_test,y_pred))*(len(y)-1)/(len(y)-x.shape[1]-1))"
   ]
  },
  {
   "cell_type": "code",
   "execution_count": null,
   "metadata": {},
   "outputs": [],
   "source": []
  },
  {
   "cell_type": "code",
   "execution_count": null,
   "metadata": {},
   "outputs": [],
   "source": []
  },
  {
   "cell_type": "code",
   "execution_count": null,
   "metadata": {},
   "outputs": [],
   "source": []
  },
  {
   "cell_type": "code",
   "execution_count": null,
   "metadata": {},
   "outputs": [],
   "source": []
  },
  {
   "cell_type": "code",
   "execution_count": null,
   "metadata": {},
   "outputs": [],
   "source": []
  }
 ],
 "metadata": {
  "kernelspec": {
   "display_name": "Python 3",
   "language": "python",
   "name": "python3"
  },
  "language_info": {
   "codemirror_mode": {
    "name": "ipython",
    "version": 3
   },
   "file_extension": ".py",
   "mimetype": "text/x-python",
   "name": "python",
   "nbconvert_exporter": "python",
   "pygments_lexer": "ipython3",
   "version": "3.7.6"
  }
 },
 "nbformat": 4,
 "nbformat_minor": 4
}
